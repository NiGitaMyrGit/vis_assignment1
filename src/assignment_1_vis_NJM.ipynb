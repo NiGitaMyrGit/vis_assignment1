{
 "cells": [
  {
   "attachments": {},
   "cell_type": "markdown",
   "metadata": {},
   "source": [
    "\n",
    "\n",
    "# Building a simple image search algorithm\n",
    "\n",
    "## TO DO \n",
    "- ```unzip``` the flowers file use the data!\n",
    "\n",
    "For this exercise, you should write some code which does the following:\n",
    "- **Define particular image** want to work with\n",
    "  - Extract **the colour histogram** of *that particular image* using ```OpenCV``` \n",
    "- Extract **colour histograms** for all of the **other images* in the data\n",
    "- **Compare** the histogram of our chosen image to all of the other histograms \n",
    "  - For this, use the\n",
    "    - ```cv2.compareHist()``` function with the\n",
    "    - ```cv2.HISTCMP_CHISQR``` metric\n",
    "- Find the **five images** which are **most similar** to the **target image**\n",
    "  - Save a **CSV file** to the folder called ```out```\n",
    "    -showing the **five most similar images** and the **distance metric**:\n",
    "\n",
    "|Filename|Distance]\n",
    "|---|---|\n",
    "|target|0.0|\n",
    "|filename1|---|\n",
    "|filename2|---|\n",
    "\n",
    "## Some notes and additional comments\n",
    "\n",
    "- Your code should include functions that you have written wherever possible. Try to break your code down into smaller self-contained parts, rather than having it as one long set of instructions.\n",
    "- submit code either as a Jupyter Notebook, or as ```.py``` script. \n",
    "\n",
    "## Objective\n",
    "\n",
    "This assignment is designed to test that you can:\n",
    "\n",
    "1. Work with larger datasets of images\n",
    "2. Extract structured information from image data using ```OpenCV```\n",
    "3. Quantaitively compare images based on these features, performing *distant viewing*\n",
    "\n",
    "\n",
    "\n",
    "\n",
    "\n",
    "\n"
   ]
  }
 ],
 "metadata": {
  "kernelspec": {
   "display_name": "Python 3",
   "language": "python",
   "name": "python3"
  },
  "language_info": {
   "name": "python",
   "version": "3.11.2 (v3.11.2:878ead1ac1, Feb  7 2023, 10:02:41) [Clang 13.0.0 (clang-1300.0.29.30)]"
  },
  "orig_nbformat": 4,
  "vscode": {
   "interpreter": {
    "hash": "aee8b7b246df8f9039afb4144a1f6fd8d2ca17a180786b69acc140d282b71a49"
   }
  }
 },
 "nbformat": 4,
 "nbformat_minor": 2
}
