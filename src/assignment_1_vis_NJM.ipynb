{
 "cells": [
  {
   "attachments": {},
   "cell_type": "markdown",
   "metadata": {},
   "source": [
    "\n",
    "\n",
    "# Building a simple image search algorithm\n",
    "\n",
    "## TO DO \n",
    "- ```unzip``` the flowers file use the data!\n",
    "\n",
    "For this exercise, you should write some code which does the following:\n",
    "- **Define particular image** want to work with\n",
    "  - Extract **the colour histogram** of *that particular image* using ```OpenCV``` \n",
    "- Extract **colour histograms** for all of the **other images* in the data\n",
    "- **Compare** the histogram of our chosen image to all of the other histograms \n",
    "  - For this, use the\n",
    "    - ```cv2.compareHist()``` function with the\n",
    "    - ```cv2.HISTCMP_CHISQR``` metric\n",
    "- Find the **five images** which are **most similar** to the **target image**\n",
    "  - Save a **CSV file** to the folder called ```out```\n",
    "    -showing the **five most similar images** and the **distance metric**:\n",
    "\n",
    "|Filename|Distance]\n",
    "|---|---|\n",
    "|target|0.0|\n",
    "|filename1|---|\n",
    "|filename2|---|\n",
    "\n",
    "## Some notes and additional comments\n",
    "\n",
    "- Your code should include functions that you have written wherever possible. Try to break your code down into smaller self-contained parts, rather than having it as one long set of instructions.\n",
    "- submit code either as a Jupyter Notebook, or as ```.py``` script. \n",
    "\n",
    "## Objective\n",
    "\n",
    "This assignment is designed to test that you can:\n",
    "\n",
    "1. Work with larger datasets of images\n",
    "2. Extract structured information from image data using ```OpenCV```\n",
    "3. Quantaitively compare images based on these features, performing *distant viewing*\n",
    "\n",
    "\n",
    "\n",
    "\n",
    "\n",
    "\n"
   ]
  },
  {
   "attachments": {},
   "cell_type": "markdown",
   "metadata": {},
   "source": [
    "# doing the work\n"
   ]
  },
  {
   "cell_type": "code",
   "execution_count": 7,
   "metadata": {},
   "outputs": [],
   "source": [
    "#setup\n",
    "# in terminal unzip the files by writing unzip \"flowers.zip\"\n",
    "import os\n",
    "import cv2\n",
    "import matplotlib.pyplot as plt\n",
    "import numpy as np\n",
    "import csv\n",
    "import fnmatch\n",
    "import sys\n",
    "sys.path.append(os.path.join(\"..\" ))\n",
    "from utils.imutils import jimshow\n",
    "from utils.imutils import jimshow_channel"
   ]
  },
  {
   "cell_type": "code",
   "execution_count": 49,
   "metadata": {},
   "outputs": [],
   "source": [
    "# Set the main directory 'flower_dir' where the files are located\n",
    "flower_dir = os.path.join(\"..\", \"data\", \"flowers\")\n",
    "\n",
    "# Set the target image\n",
    "target_filename = os.path.join(\"..\", \"data\", \"flowers\", \"image_1305.jpg\")\n",
    "target_image = cv2.imread(target_filename)\n",
    "\n",
    "#calculating the histogram of the target image\n",
    "target_hist = cv2.calcHist([target_image], [0, 1, 2], None, [36, 36, 36], [0,256, 0, 256, 0, 256])\n"
   ]
  },
  {
   "cell_type": "code",
   "execution_count": 50,
   "metadata": {},
   "outputs": [],
   "source": [
    "\n",
    "# Create a list to store the distances between the target histogram and each image histogram\n",
    "distances = []\n",
    "\n",
    "# Loop over every image in the flower_dir and calculate the histogram\n",
    "for filename in os.listdir(flower_dir):\n",
    "    # Check if the filename is the same as the target filename\n",
    "    if filename == os.path.basename(target_filename):\n",
    "        continue  # skip this image and continue with the next one\n",
    "    if not fnmatch.fnmatch(filename, \"*.jpg\"):\n",
    "        continue\n",
    "    # Read the image\n",
    "    image = cv2.imread(os.path.join(flower_dir, filename))\n",
    "    # Calculate the histogram of the image\n",
    "    hist = cv2.calcHist([image], [0, 1, 2], None, [36, 36, 36], [0, 256, 0, 256, 0, 256])\n",
    "    \n",
    "    # Calculate the distance between the target histogram and the image histogram\n",
    "    # using the Bhattacharyya distance\n",
    "    # The Bhattacharyya distance is the \n",
    "    distance= cv2.compareHist(target_hist, hist, cv2.HISTCMP_BHATTACHARYYA)\n",
    "    \n",
    "    # Add the filename and distance to the distances list\n",
    "    distances.append((filename, distance))\n",
    "\n",
    "# Sort the distances list by distance in ascending order\n",
    "distances.sort(key=lambda x: x[1])\n",
    "\n",
    "# Create a list to store the top 5 images in\n",
    "top_5 = []\n",
    "\n",
    "# Add the target image to the top 5 list with a distance of 0.0\n",
    "top_5.append((os.path.basename(target_filename), 0.0))\n",
    "\n",
    "# Loop over the 5 images with the smallest distance and add them to the top 5 list\n",
    "for i in range(5):\n",
    "    filename, distance = distances[i]\n",
    "    top_5.append((filename, distance))\n",
    "\n",
    "output_file = os.path.join (\"..\", \"out\", \"similiar_images_bins36.csv\")\n",
    "# Save the top 5 list to a CSV file\n",
    "with open(output_file, \"w\", newline=\"\") as csvfile:\n",
    "    writer = csv.writer(csvfile)\n",
    "    writer.writerow([\"Filename\", \"Distance\"])\n",
    "    for item in top_5:\n",
    "        writer.writerow(item)"
   ]
  },
  {
   "attachments": {},
   "cell_type": "markdown",
   "metadata": {},
   "source": [
    "It was mentioned in-class to try and set the bin-count down. However it seems to produced the best images (at least for this image) in the 256. Why that is, I don't know. But it does recognize that the image 1322, which is the exact same image as the target image (1305)\n",
    "I've tried it with 32 bins (the squeare root of the amount of pictures, don't know why that works )"
   ]
  },
  {
   "cell_type": "markdown",
   "metadata": {},
   "source": []
  },
  {
   "cell_type": "markdown",
   "metadata": {},
   "source": []
  }
 ],
 "metadata": {
  "kernelspec": {
   "display_name": "Python 3",
   "language": "python",
   "name": "python3"
  },
  "language_info": {
   "codemirror_mode": {
    "name": "ipython",
    "version": 3
   },
   "file_extension": ".py",
   "mimetype": "text/x-python",
   "name": "python",
   "nbconvert_exporter": "python",
   "pygments_lexer": "ipython3",
   "version": "3.11.2"
  },
  "orig_nbformat": 4,
  "vscode": {
   "interpreter": {
    "hash": "1a1af0ee75eeea9e2e1ee996c87e7a2b11a0bebd85af04bb136d915cefc0abce"
   }
  }
 },
 "nbformat": 4,
 "nbformat_minor": 2
}
